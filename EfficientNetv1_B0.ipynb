{
  "nbformat": 4,
  "nbformat_minor": 0,
  "metadata": {
    "colab": {
      "name": "EfficientNetv1-B0",
      "provenance": [],
      "collapsed_sections": [],
      "include_colab_link": true
    },
    "kernelspec": {
      "name": "python3",
      "display_name": "Python 3"
    },
    "language_info": {
      "name": "python"
    },
    "accelerator": "GPU"
  },
  "cells": [
    {
      "cell_type": "markdown",
      "metadata": {
        "id": "view-in-github",
        "colab_type": "text"
      },
      "source": [
        "<a href=\"https://colab.research.google.com/github/rajatenzyme/EfficientNet-Cifar10/blob/main/EfficientNetv1_B0.ipynb\" target=\"_parent\"><img src=\"https://colab.research.google.com/assets/colab-badge.svg\" alt=\"Open In Colab\"/></a>"
      ]
    },
    {
      "cell_type": "markdown",
      "source": [
        "you are requested to train refficientNET v1 and V2 all models on CIFaR 10 dataset\n",
        "\n",
        "https://keras.io/api/applications/\n",
        "\n",
        "\n",
        "And \n",
        "ResNeXT on cifar10 , link for you to understand\n",
        "\n",
        "https://medium.com/dataseries/enhancing-resnet-to-resnext-for-image-classification-3449f62a774c\n",
        "\n",
        "Youvare free to use any thing pytorch, keras -tensorflow\n",
        "\n",
        "Ensure to keep the epochs same while training.\n",
        "Ensure to save models\n",
        "Ensure to plot save the accuracy and loss curve \n",
        "You can use collab to do this "
      ],
      "metadata": {
        "id": "XO4diJpZx6Qs"
      }
    },
    {
      "cell_type": "code",
      "source": [
        "import keras\n",
        "import tensorflow as tf\n",
        "from tensorflow.keras.optimizers import Adam\n",
        "from keras.models import Model\n",
        "from keras.models import Input\n",
        "from keras.layers import Dense\n",
        "import numpy as np\n",
        "import matplotlib.pyplot as plt\n",
        "from tensorflow.keras.applications import EfficientNetB0"
      ],
      "metadata": {
        "id": "fYK0Hil7irnq"
      },
      "execution_count": null,
      "outputs": []
    },
    {
      "cell_type": "code",
      "source": [
        "def model_dense(image_shape=(32,32,3)):\n",
        "    in_src = Input(shape=image_shape)\n",
        "    #d = BatchNormalization()(in_src)\n",
        "    m = EfficientNetB0(include_top=False, weights='imagenet', input_shape=(32,32,3))(in_src)\n",
        "    #Here I am making all the layer of the last layer to be non trainable\n",
        "   # for layer in m.layers[:len(m.layers)-46]:\n",
        "   #     layer.trainable = False\n",
        "    #x = tf.keras.layers.GlobalMaxPool2D()(model)\n",
        "    x = tf.keras.layers.GlobalAveragePooling2D()(m)\n",
        "    #x = Flatten()(model)\n",
        "    x = Dense(2048,activation='relu')(x)\n",
        "    #x = Dropout(0.3)(x, training=True)\n",
        "    x = Dense(1024,activation='relu')(x)\n",
        "    #x = Dropout(0.3)(x, training=True)\n",
        "    x = Dense(10, activation='softmax')(x)\n",
        "    model = Model(in_src,x)\n",
        "    opt = Adam(learning_rate=0.0002, beta_1=0.5)\n",
        "    model.compile(loss='categorical_crossentropy', optimizer=opt, metrics=['accuracy'])\n",
        "    return model\n",
        "\n",
        "model = model_dense()"
      ],
      "metadata": {
        "id": "ceXKYeZSUzBT",
        "colab": {
          "base_uri": "https://localhost:8080/"
        },
        "outputId": "9cd5d668-3d74-415a-e9f3-f277d8e0fbd6"
      },
      "execution_count": null,
      "outputs": [
        {
          "output_type": "stream",
          "name": "stdout",
          "text": [
            "Downloading data from https://storage.googleapis.com/keras-applications/efficientnetb0_notop.h5\n",
            "16711680/16705208 [==============================] - 1s 0us/step\n",
            "16719872/16705208 [==============================] - 1s 0us/step\n"
          ]
        }
      ]
    },
    {
      "cell_type": "code",
      "source": [
        "model.summary()"
      ],
      "metadata": {
        "id": "flQYEmHNBuGp",
        "outputId": "53592b41-d6ad-45b0-fe2c-2bba7eeae6b8",
        "colab": {
          "base_uri": "https://localhost:8080/"
        }
      },
      "execution_count": null,
      "outputs": [
        {
          "output_type": "stream",
          "name": "stdout",
          "text": [
            "Model: \"model\"\n",
            "_________________________________________________________________\n",
            " Layer (type)                Output Shape              Param #   \n",
            "=================================================================\n",
            " input_1 (InputLayer)        [(None, 32, 32, 3)]       0         \n",
            "                                                                 \n",
            " efficientnetb0 (Functional)  (None, 1, 1, 1280)       4049571   \n",
            "                                                                 \n",
            " global_average_pooling2d (G  (None, 1280)             0         \n",
            " lobalAveragePooling2D)                                          \n",
            "                                                                 \n",
            " dense (Dense)               (None, 2048)              2623488   \n",
            "                                                                 \n",
            " dense_1 (Dense)             (None, 1024)              2098176   \n",
            "                                                                 \n",
            " dense_2 (Dense)             (None, 10)                10250     \n",
            "                                                                 \n",
            "=================================================================\n",
            "Total params: 8,781,485\n",
            "Trainable params: 8,739,462\n",
            "Non-trainable params: 42,023\n",
            "_________________________________________________________________\n"
          ]
        }
      ]
    },
    {
      "cell_type": "code",
      "source": [
        "(x_train, y_train), (x_test, y_test) = tf.keras.datasets.cifar10.load_data()"
      ],
      "metadata": {
        "colab": {
          "base_uri": "https://localhost:8080/"
        },
        "id": "jqSKySRhiq4a",
        "outputId": "e8cfff71-5062-446a-eff8-0ac159492f46"
      },
      "execution_count": null,
      "outputs": [
        {
          "output_type": "stream",
          "name": "stdout",
          "text": [
            "Downloading data from https://www.cs.toronto.edu/~kriz/cifar-10-python.tar.gz\n",
            "170500096/170498071 [==============================] - 2s 0us/step\n",
            "170508288/170498071 [==============================] - 2s 0us/step\n"
          ]
        }
      ]
    },
    {
      "cell_type": "code",
      "source": [
        "y_train = tf.keras.utils.to_categorical(y_train, num_classes=10)\n",
        "y_test = tf.keras.utils.to_categorical(y_test, num_classes=10)"
      ],
      "metadata": {
        "id": "yaebXQyTjbnT"
      },
      "execution_count": null,
      "outputs": []
    },
    {
      "cell_type": "code",
      "source": [
        "x_train.shape,  x_test.shape, y_train.shape, y_test.shape"
      ],
      "metadata": {
        "colab": {
          "base_uri": "https://localhost:8080/"
        },
        "id": "25_3E4H8jL5W",
        "outputId": "ec778f96-7d83-4cf6-b233-9c242ff9cf2b"
      },
      "execution_count": null,
      "outputs": [
        {
          "output_type": "execute_result",
          "data": {
            "text/plain": [
              "((50000, 32, 32, 3), (10000, 32, 32, 3), (50000, 10), (10000, 10))"
            ]
          },
          "metadata": {},
          "execution_count": 5
        }
      ]
    },
    {
      "cell_type": "code",
      "source": [
        "history = model.fit(\n",
        "        x_train,\n",
        "        y_train,\n",
        "        validation_data=(x_test,y_test),\n",
        "        batch_size=32,\n",
        "        epochs=10,\n",
        "        shuffle=True,\n",
        "    )"
      ],
      "metadata": {
        "colab": {
          "base_uri": "https://localhost:8080/"
        },
        "id": "qk33AW_3jtAB",
        "outputId": "29ff750c-510f-415f-a1ac-ec8a265fe0f7"
      },
      "execution_count": null,
      "outputs": [
        {
          "output_type": "stream",
          "name": "stdout",
          "text": [
            "Epoch 1/10\n",
            "1563/1563 [==============================] - 140s 74ms/step - loss: 1.1526 - accuracy: 0.5952 - val_loss: 0.7661 - val_accuracy: 0.7343\n",
            "Epoch 2/10\n",
            "1563/1563 [==============================] - 107s 69ms/step - loss: 0.7612 - accuracy: 0.7357 - val_loss: 0.6434 - val_accuracy: 0.7758\n",
            "Epoch 3/10\n",
            "1563/1563 [==============================] - 111s 71ms/step - loss: 0.6235 - accuracy: 0.7833 - val_loss: 0.5827 - val_accuracy: 0.8044\n",
            "Epoch 4/10\n",
            "1563/1563 [==============================] - 107s 68ms/step - loss: 0.5262 - accuracy: 0.8166 - val_loss: 0.5709 - val_accuracy: 0.8103\n",
            "Epoch 5/10\n",
            "1563/1563 [==============================] - 112s 71ms/step - loss: 0.4596 - accuracy: 0.8394 - val_loss: 0.5471 - val_accuracy: 0.8197\n",
            "Epoch 6/10\n",
            "1563/1563 [==============================] - 116s 74ms/step - loss: 0.3951 - accuracy: 0.8628 - val_loss: 0.5631 - val_accuracy: 0.8211\n",
            "Epoch 7/10\n",
            "1563/1563 [==============================] - 107s 69ms/step - loss: 0.3499 - accuracy: 0.8786 - val_loss: 0.5535 - val_accuracy: 0.8264\n",
            "Epoch 8/10\n",
            "1563/1563 [==============================] - 112s 71ms/step - loss: 0.3082 - accuracy: 0.8933 - val_loss: 0.5517 - val_accuracy: 0.8281\n",
            "Epoch 9/10\n",
            "1563/1563 [==============================] - 108s 69ms/step - loss: 0.2785 - accuracy: 0.9032 - val_loss: 0.5677 - val_accuracy: 0.8275\n",
            "Epoch 10/10\n",
            "1563/1563 [==============================] - 107s 68ms/step - loss: 0.2486 - accuracy: 0.9134 - val_loss: 0.5780 - val_accuracy: 0.8282\n"
          ]
        }
      ]
    },
    {
      "cell_type": "code",
      "source": [
        "model.save(\"cifar_e0.h5\")"
      ],
      "metadata": {
        "id": "HpjdkZrXrfPP"
      },
      "execution_count": null,
      "outputs": []
    },
    {
      "cell_type": "code",
      "source": [
        "print(history.history.keys())\n",
        "# summarize history for accuracy\n",
        "plt.plot(history.history['accuracy'])\n",
        "plt.plot(history.history['val_accuracy'])\n",
        "plt.title('model accuracy')\n",
        "plt.ylabel('accuracy')\n",
        "plt.xlabel('epoch')\n",
        "plt.legend(['train', 'test'], loc='upper left')\n",
        "plt.savefig(\"image_test.jpg\")\n",
        "plt.show()\n"
      ],
      "metadata": {
        "colab": {
          "base_uri": "https://localhost:8080/",
          "height": 312
        },
        "id": "eiXnL43FphrL",
        "outputId": "5c45c688-3bce-46bf-b1af-dee174d0561d"
      },
      "execution_count": null,
      "outputs": [
        {
          "output_type": "stream",
          "name": "stdout",
          "text": [
            "dict_keys(['loss', 'accuracy', 'val_loss', 'val_accuracy'])\n"
          ]
        },
        {
          "output_type": "display_data",
          "data": {
            "text/plain": [
              "<Figure size 432x288 with 1 Axes>"
            ],
            "image/png": "[encoded data removed]"
          },
          "metadata": {
            "needs_background": "light"
          }
        }
      ]
    },
    {
      "cell_type": "code",
      "source": [
        ""
      ],
      "metadata": {
        "id": "jfe6OCH8430C"
      },
      "execution_count": null,
      "outputs": []
    }
  ]
}